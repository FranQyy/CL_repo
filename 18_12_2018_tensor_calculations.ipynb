{
  "nbformat": 4,
  "nbformat_minor": 0,
  "metadata": {
    "colab": {
      "name": "18_12_2018_tensor_calculations.ipynb",
      "version": "0.3.2",
      "provenance": [],
      "include_colab_link": true
    },
    "kernelspec": {
      "name": "python3",
      "display_name": "Python 3"
    }
  },
  "cells": [
    {
      "cell_type": "markdown",
      "metadata": {
        "id": "view-in-github",
        "colab_type": "text"
      },
      "source": [
        "<a href=\"https://colab.research.google.com/github/FranQyy/CL_repo/blob/master/18_12_2018_tensor_calculations.ipynb\" target=\"_parent\"><img src=\"https://colab.research.google.com/assets/colab-badge.svg\" alt=\"Open In Colab\"/></a>"
      ]
    },
    {
      "metadata": {
        "id": "t6JaZ1hWpDyP",
        "colab_type": "code",
        "colab": {}
      },
      "cell_type": "code",
      "source": [
        "import tensorflow as tf"
      ],
      "execution_count": 0,
      "outputs": []
    },
    {
      "metadata": {
        "id": "_JpMqcKHpFqT",
        "colab_type": "code",
        "colab": {}
      },
      "cell_type": "code",
      "source": [
        "# Specify the values our constant ops will output\n",
        "C = tf.constant(5.0)\n",
        "P = tf.constant(100.0)\n",
        "\n",
        "# We specify the initial values that our lower and upper bounds will be when initialised.\n",
        "# Obviously the ultimate success of this algorithm depends on decent start points\n",
        "a = tf.Variable(-10.0)\n",
        "b = tf.Variable(10.0)\n",
        " \n",
        "# We expect a floating number to be inserted into the graph\n",
        "v_target = tf.placeholder(\"float\")\n",
        " \n",
        "# Remember the following operations are definitions,\n",
        "# none are carried out until an operation is evaluated in a session!\n",
        "y = (a+b)/2\n",
        "v_guess = C*tf.exp(-0.5*y) + C*tf.exp(-y) + C*tf.exp(-1.5*y) + (C + P)*tf.exp(-2*y)\n",
        " \n",
        "# Operations to set temporary values (a_ and b_) intended to be the next values of a and b.\n",
        "# e.g. if the guess results in a v greater than the target v,\n",
        "# we will set a_ to be the current value of y\n",
        "a_ = tf.where(v_guess > v_target, y, a)\n",
        "b_ = tf.where(v_guess < v_target, y, b)\n",
        " \n",
        "# The last stage of our graph is to assign the two temporary vals to our variables\n",
        "step = tf.group( a.assign(a_), b.assign(b_) )"
      ],
      "execution_count": 0,
      "outputs": []
    },
    {
      "metadata": {
        "id": "NIYPon_XrnHn",
        "colab_type": "code",
        "colab": {}
      },
      "cell_type": "code",
      "source": [
        "# Set up a session and initialize variables\n",
        "sess = tf.Session()\n",
        "tf.global_variables_initializer().run(session=sess)\n",
        "# Run the step operation (and therefore whole graph) 100 times\n",
        "for i in range (100):\n",
        "\tsess.run(step, feed_dict={v_target:95})"
      ],
      "execution_count": 0,
      "outputs": []
    },
    {
      "metadata": {
        "id": "jSN1sWGvbuup",
        "colab_type": "code",
        "outputId": "2de160f8-967e-4836-c6ff-016b1fa90f9c",
        "colab": {
          "base_uri": "https://localhost:8080/",
          "height": 35
        }
      },
      "cell_type": "code",
      "source": [
        "print(sess.run(y)) # 0.125163\n"
      ],
      "execution_count": 0,
      "outputs": [
        {
          "output_type": "stream",
          "text": [
            "0.12516305\n"
          ],
          "name": "stdout"
        }
      ]
    },
    {
      "metadata": {
        "id": "GgCAQEUQdM6V",
        "colab_type": "code",
        "colab": {}
      },
      "cell_type": "code",
      "source": [
        "import numpy as np\n",
        "NO_OF_RANDOM_POINTS = 100\n",
        "CIRCLE_RADIUS = 0.5\n",
        "random_spots = np.random.rand(NO_OF_RANDOM_POINTS, 2) * 2 - 1\n",
        "is_inside_circle = (np.power(random_spots[:,0],2) + np.power(random_spots[:,1],2) < CIRCLE_RADIUS).astype(int)"
      ],
      "execution_count": 0,
      "outputs": []
    },
    {
      "metadata": {
        "id": "bshtdjRukTSz",
        "colab_type": "code",
        "colab": {}
      },
      "cell_type": "code",
      "source": [
        "INPUT_LAYER_SIZE = 2\n",
        "HIDDEN_LAYER_SIZE = 3\n",
        "OUTPUT_LAYER_SIZE = 2\n",
        " \n",
        "# Starting values for weights and biases are drawn randomly and uniformly from  [-1, 1]\n",
        "# For example W1 is a matrix of shape 2x3\n",
        "W1 = tf.Variable(tf.random_uniform([INPUT_LAYER_SIZE, HIDDEN_LAYER_SIZE], -1, 1))\n",
        "b1 = tf.Variable(tf.random_uniform([HIDDEN_LAYER_SIZE], -1, 1))\n",
        "\n",
        "W2 = tf.Variable(tf.random_uniform([HIDDEN_LAYER_SIZE, OUTPUT_LAYER_SIZE], -1, 1))\n",
        "b2 = tf.Variable(tf.random_uniform([OUTPUT_LAYER_SIZE], -1, 1))\n",
        "# Specifying that the placeholder X can expect a matrix of 2 columns (but any number of rows)\n",
        "# representing random spots\n",
        "X = tf.placeholder(tf.float32, [None, INPUT_LAYER_SIZE])\n",
        "# Placeholder Y can expect integers representing whether corresponding point is in the circle\n",
        "# or not (no shape specified)\n",
        "Y = tf.placeholder(tf.uint8)\n",
        "# An op to convert to a one hot vector\n",
        "onehot_output = tf.one_hot(Y, OUTPUT_LAYER_SIZE)"
      ],
      "execution_count": 0,
      "outputs": []
    },
    {
      "metadata": {
        "id": "Z1QVY1Yklb3S",
        "colab_type": "code",
        "colab": {}
      },
      "cell_type": "code",
      "source": [
        "LEARNING_RATE = 0.01\n",
        "# Op to perform matrix calculation X*W1 + b1\n",
        "hidden_layer = tf.add(tf.matmul(X, W1), b1)\n",
        "# Use sigmoid activation function on the outcome\n",
        "activated_hidden_layer = tf.sigmoid(hidden_layer)\n",
        "# Apply next weights and bias (W2, b2) to hidden layer and then apply softmax function\n",
        "# to get our output layer (each vector adding up to 1)\n",
        "output_layer = tf.nn.softmax(tf.add(tf.matmul(activated_hidden_layer, W2), b2))\n",
        "# Calculate cross entropy for our loss function\n",
        "loss = -tf.reduce_sum(onehot_output * tf.log(output_layer))\n",
        "# Use gradient descent optimizer at specified learning rate to minimize value given by loss tensor\n",
        "train_step = tf.train.GradientDescentOptimizer(LEARNING_RATE).minimize(loss)"
      ],
      "execution_count": 0,
      "outputs": []
    },
    {
      "metadata": {
        "id": "-BgTzPCNzbEg",
        "colab_type": "code",
        "outputId": "4a4be9ea-8003-4209-f973-3917c456d66c",
        "colab": {
          "base_uri": "https://localhost:8080/",
          "height": 217
        }
      },
      "cell_type": "code",
      "source": [
        "EPOCH_COUNT = 1000\n",
        "sess = tf.Session()\n",
        "tf.global_variables_initializer().run(session=sess)\n",
        "for i in range(EPOCH_COUNT):\n",
        "    if i%100 == 0:\n",
        "      print('Loss after %d runs: %f' % (i, sess.run(loss, feed_dict={X: random_spots, Y: is_inside_circle})))\n",
        "      sess.run(train_step, feed_dict={X: random_spots, Y: is_inside_circle})\n",
        "print('Final loss after %d runs: %f' % (i, sess.run(loss, feed_dict={X: random_spots, Y: is_inside_circle})))"
      ],
      "execution_count": 0,
      "outputs": [
        {
          "output_type": "stream",
          "text": [
            "Loss after 0 runs: 70.321060\n",
            "Loss after 100 runs: 68.463387\n",
            "Loss after 200 runs: 68.316864\n",
            "Loss after 300 runs: 68.263153\n",
            "Loss after 400 runs: 68.217300\n",
            "Loss after 500 runs: 68.174141\n",
            "Loss after 600 runs: 68.133209\n",
            "Loss after 700 runs: 68.094299\n",
            "Loss after 800 runs: 68.057243\n",
            "Loss after 900 runs: 68.021896\n",
            "Final loss after 999 runs: 67.988136\n"
          ],
          "name": "stdout"
        }
      ]
    },
    {
      "metadata": {
        "id": "-Kvapv5Tzdn0",
        "colab_type": "code",
        "colab": {}
      },
      "cell_type": "code",
      "source": [
        ""
      ],
      "execution_count": 0,
      "outputs": []
    }
  ]
}